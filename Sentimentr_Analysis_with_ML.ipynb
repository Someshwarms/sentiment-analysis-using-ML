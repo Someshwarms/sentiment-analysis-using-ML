{
  "nbformat": 4,
  "nbformat_minor": 0,
  "metadata": {
    "colab": {
      "name": "Sentimentr Analysis with ML.ipynb",
      "provenance": [],
      "authorship_tag": "ABX9TyODCkyD+JEdHTUHIPWbpE+E",
      "include_colab_link": true
    },
    "kernelspec": {
      "name": "python3",
      "display_name": "Python 3"
    },
    "language_info": {
      "name": "python"
    }
  },
  "cells": [
    {
      "cell_type": "markdown",
      "metadata": {
        "id": "view-in-github",
        "colab_type": "text"
      },
      "source": [
        "<a href=\"https://colab.research.google.com/github/Someshwarms/sentiment-analysis-using-ML/blob/main/Sentimentr_Analysis_with_ML.ipynb\" target=\"_parent\"><img src=\"https://colab.research.google.com/assets/colab-badge.svg\" alt=\"Open In Colab\"/></a>"
      ]
    },
    {
      "cell_type": "code",
      "metadata": {
        "colab": {
          "base_uri": "https://localhost:8080/"
        },
        "id": "EGVp7VkR_c70",
        "outputId": "16393161-9482-45e3-9bec-a5b75bffc0be"
      },
      "source": [
        "from google.colab import drive\n",
        "drive.mount(\"/content/drive\", force_remount=True)"
      ],
      "execution_count": null,
      "outputs": [
        {
          "output_type": "stream",
          "name": "stdout",
          "text": [
            "Mounted at /content/drive\n"
          ]
        }
      ]
    },
    {
      "cell_type": "code",
      "metadata": {
        "id": "JuM6qOzwFid0"
      },
      "source": [
        "import pandas as pd\n",
        "import matplotlib.pyplot as plt\n",
        "import seaborn as sns\n",
        "import numpy as np\n",
        "import joblib"
      ],
      "execution_count": null,
      "outputs": []
    },
    {
      "cell_type": "code",
      "metadata": {
        "colab": {
          "base_uri": "https://localhost:8080/",
          "height": 204
        },
        "id": "7Z99OsBXFrkf",
        "outputId": "1bfe9a7c-78c4-41bf-dc61-b807e483b457"
      },
      "source": [
        "data=pd.read_csv(\"/content/drive/MyDrive/data123.csv\")\n",
        "data.head(n=5)"
      ],
      "execution_count": null,
      "outputs": [
        {
          "output_type": "execute_result",
          "data": {
            "text/html": [
              "<div>\n",
              "<style scoped>\n",
              "    .dataframe tbody tr th:only-of-type {\n",
              "        vertical-align: middle;\n",
              "    }\n",
              "\n",
              "    .dataframe tbody tr th {\n",
              "        vertical-align: top;\n",
              "    }\n",
              "\n",
              "    .dataframe thead th {\n",
              "        text-align: right;\n",
              "    }\n",
              "</style>\n",
              "<table border=\"1\" class=\"dataframe\">\n",
              "  <thead>\n",
              "    <tr style=\"text-align: right;\">\n",
              "      <th></th>\n",
              "      <th>package_name</th>\n",
              "      <th>review</th>\n",
              "      <th>polarity</th>\n",
              "    </tr>\n",
              "  </thead>\n",
              "  <tbody>\n",
              "    <tr>\n",
              "      <th>0</th>\n",
              "      <td>com.facebook.katana</td>\n",
              "      <td>privacy at least put some option appear offlin...</td>\n",
              "      <td>0</td>\n",
              "    </tr>\n",
              "    <tr>\n",
              "      <th>1</th>\n",
              "      <td>com.facebook.katana</td>\n",
              "      <td>messenger issues ever since the last update, i...</td>\n",
              "      <td>0</td>\n",
              "    </tr>\n",
              "    <tr>\n",
              "      <th>2</th>\n",
              "      <td>com.facebook.katana</td>\n",
              "      <td>profile any time my wife or anybody has more t...</td>\n",
              "      <td>0</td>\n",
              "    </tr>\n",
              "    <tr>\n",
              "      <th>3</th>\n",
              "      <td>com.facebook.katana</td>\n",
              "      <td>the new features suck for those of us who don'...</td>\n",
              "      <td>0</td>\n",
              "    </tr>\n",
              "    <tr>\n",
              "      <th>4</th>\n",
              "      <td>com.facebook.katana</td>\n",
              "      <td>forced reload on uploading pic on replying com...</td>\n",
              "      <td>0</td>\n",
              "    </tr>\n",
              "  </tbody>\n",
              "</table>\n",
              "</div>"
            ],
            "text/plain": [
              "          package_name  ... polarity\n",
              "0  com.facebook.katana  ...        0\n",
              "1  com.facebook.katana  ...        0\n",
              "2  com.facebook.katana  ...        0\n",
              "3  com.facebook.katana  ...        0\n",
              "4  com.facebook.katana  ...        0\n",
              "\n",
              "[5 rows x 3 columns]"
            ]
          },
          "metadata": {},
          "execution_count": 65
        }
      ]
    },
    {
      "cell_type": "code",
      "metadata": {
        "id": "UdMr6jEyGkpE"
      },
      "source": [
        "#Preprocess the data"
      ],
      "execution_count": null,
      "outputs": []
    },
    {
      "cell_type": "code",
      "metadata": {
        "id": "RCMcjB7WG6fe"
      },
      "source": [
        "def preprocess_data(data):\n",
        "  # Remove package name as it's not relevant\n",
        "  data=data.drop('package_name',axis=1)\n",
        "  # Convert text to lowercase\n",
        "  data['review']=data['review'].str.strip().str.lower()\n",
        "  return data\n"
      ],
      "execution_count": null,
      "outputs": []
    },
    {
      "cell_type": "code",
      "metadata": {
        "id": "OqFXC16iHrHx"
      },
      "source": [
        "data=preprocess_data(data)"
      ],
      "execution_count": null,
      "outputs": []
    },
    {
      "cell_type": "code",
      "metadata": {
        "colab": {
          "base_uri": "https://localhost:8080/",
          "height": 204
        },
        "id": "CBsWC50fHzVM",
        "outputId": "881eae7e-1998-4253-ddf5-79bf5cbd0125"
      },
      "source": [
        "data.head(n=5)"
      ],
      "execution_count": null,
      "outputs": [
        {
          "output_type": "execute_result",
          "data": {
            "text/html": [
              "<div>\n",
              "<style scoped>\n",
              "    .dataframe tbody tr th:only-of-type {\n",
              "        vertical-align: middle;\n",
              "    }\n",
              "\n",
              "    .dataframe tbody tr th {\n",
              "        vertical-align: top;\n",
              "    }\n",
              "\n",
              "    .dataframe thead th {\n",
              "        text-align: right;\n",
              "    }\n",
              "</style>\n",
              "<table border=\"1\" class=\"dataframe\">\n",
              "  <thead>\n",
              "    <tr style=\"text-align: right;\">\n",
              "      <th></th>\n",
              "      <th>review</th>\n",
              "      <th>polarity</th>\n",
              "    </tr>\n",
              "  </thead>\n",
              "  <tbody>\n",
              "    <tr>\n",
              "      <th>0</th>\n",
              "      <td>privacy at least put some option appear offlin...</td>\n",
              "      <td>0</td>\n",
              "    </tr>\n",
              "    <tr>\n",
              "      <th>1</th>\n",
              "      <td>messenger issues ever since the last update, i...</td>\n",
              "      <td>0</td>\n",
              "    </tr>\n",
              "    <tr>\n",
              "      <th>2</th>\n",
              "      <td>profile any time my wife or anybody has more t...</td>\n",
              "      <td>0</td>\n",
              "    </tr>\n",
              "    <tr>\n",
              "      <th>3</th>\n",
              "      <td>the new features suck for those of us who don'...</td>\n",
              "      <td>0</td>\n",
              "    </tr>\n",
              "    <tr>\n",
              "      <th>4</th>\n",
              "      <td>forced reload on uploading pic on replying com...</td>\n",
              "      <td>0</td>\n",
              "    </tr>\n",
              "  </tbody>\n",
              "</table>\n",
              "</div>"
            ],
            "text/plain": [
              "                                              review  polarity\n",
              "0  privacy at least put some option appear offlin...         0\n",
              "1  messenger issues ever since the last update, i...         0\n",
              "2  profile any time my wife or anybody has more t...         0\n",
              "3  the new features suck for those of us who don'...         0\n",
              "4  forced reload on uploading pic on replying com...         0"
            ]
          },
          "metadata": {},
          "execution_count": 69
        }
      ]
    },
    {
      "cell_type": "code",
      "metadata": {
        "id": "BlM9PxJbKqgQ"
      },
      "source": [
        "X=data['review']\n",
        "y=data['polarity']"
      ],
      "execution_count": null,
      "outputs": []
    },
    {
      "cell_type": "code",
      "metadata": {
        "colab": {
          "base_uri": "https://localhost:8080/"
        },
        "id": "3_D97QwkLYpA",
        "outputId": "b1079125-dc65-44b6-f9e4-277ccf57cd06"
      },
      "source": [
        "X"
      ],
      "execution_count": null,
      "outputs": [
        {
          "output_type": "execute_result",
          "data": {
            "text/plain": [
              "0      privacy at least put some option appear offlin...\n",
              "1      messenger issues ever since the last update, i...\n",
              "2      profile any time my wife or anybody has more t...\n",
              "3      the new features suck for those of us who don'...\n",
              "4      forced reload on uploading pic on replying com...\n",
              "                             ...                        \n",
              "886    loved it i loooooooooooooovvved it because it ...\n",
              "887    all time legendary game the birthday party lev...\n",
              "888    ads are way to heavy listen to the bad reviews...\n",
              "889    fun works perfectly well. ads aren't as annoyi...\n",
              "890    they're everywhere i see angry birds everywher...\n",
              "Name: review, Length: 891, dtype: object"
            ]
          },
          "metadata": {},
          "execution_count": 71
        }
      ]
    },
    {
      "cell_type": "code",
      "metadata": {
        "colab": {
          "base_uri": "https://localhost:8080/"
        },
        "id": "zs9a01sTLZsV",
        "outputId": "d7f281a3-d969-40d3-bc97-2a5535a831ab"
      },
      "source": [
        "y"
      ],
      "execution_count": null,
      "outputs": [
        {
          "output_type": "execute_result",
          "data": {
            "text/plain": [
              "0      0\n",
              "1      0\n",
              "2      0\n",
              "3      0\n",
              "4      0\n",
              "      ..\n",
              "886    1\n",
              "887    1\n",
              "888    0\n",
              "889    1\n",
              "890    1\n",
              "Name: polarity, Length: 891, dtype: int64"
            ]
          },
          "metadata": {},
          "execution_count": 72
        }
      ]
    },
    {
      "cell_type": "code",
      "metadata": {
        "colab": {
          "base_uri": "https://localhost:8080/"
        },
        "id": "YpVIY5BqLb41",
        "outputId": "8edeab5e-88bf-4ee2-a49e-036836da323a"
      },
      "source": [
        "y.value_counts()"
      ],
      "execution_count": null,
      "outputs": [
        {
          "output_type": "execute_result",
          "data": {
            "text/plain": [
              "0    584\n",
              "1    307\n",
              "Name: polarity, dtype: int64"
            ]
          },
          "metadata": {},
          "execution_count": 73
        }
      ]
    },
    {
      "cell_type": "code",
      "metadata": {
        "colab": {
          "base_uri": "https://localhost:8080/",
          "height": 350
        },
        "id": "93Fh70duL2A_",
        "outputId": "b1f67c02-e5a4-4711-cb5b-3e371fa19c1e"
      },
      "source": [
        "sns.countplot('polarity',data=data)"
      ],
      "execution_count": null,
      "outputs": [
        {
          "output_type": "stream",
          "name": "stderr",
          "text": [
            "/usr/local/lib/python3.7/dist-packages/seaborn/_decorators.py:43: FutureWarning: Pass the following variable as a keyword arg: x. From version 0.12, the only valid positional argument will be `data`, and passing other arguments without an explicit keyword will result in an error or misinterpretation.\n",
            "  FutureWarning\n"
          ]
        },
        {
          "output_type": "execute_result",
          "data": {
            "text/plain": [
              "<matplotlib.axes._subplots.AxesSubplot at 0x7f0d56580050>"
            ]
          },
          "metadata": {},
          "execution_count": 74
        },
        {
          "output_type": "display_data",
          "data": {
            "image/png": "[encoded data removed]",
            "text/plain": [
              "<Figure size 432x288 with 1 Axes>"
            ]
          },
          "metadata": {
            "needs_background": "light"
          }
        }
      ]
    },
    {
      "cell_type": "code",
      "metadata": {
        "id": "VULOpxSuPId4"
      },
      "source": [
        "from sklearn.model_selection import train_test_split\n",
        "X_train,X_test,y_train,y_test=train_test_split(X,y,stratify=y,test_size=0.25,random_state=42)"
      ],
      "execution_count": null,
      "outputs": []
    },
    {
      "cell_type": "code",
      "metadata": {
        "colab": {
          "base_uri": "https://localhost:8080/"
        },
        "id": "Wy_gXL7uP5Ou",
        "outputId": "3333f90e-0bd3-4b8c-c103-96cae9dc8f33"
      },
      "source": [
        "X_train"
      ],
      "execution_count": null,
      "outputs": [
        {
          "output_type": "execute_result",
          "data": {
            "text/plain": [
              "597    fantastic and helpful i find this app so helpf...\n",
              "60     awsome great type of social media nothing wron...\n",
              "660    cannot use properly ???????????ˆ ??š??????????...\n",
              "876    2many adds. great game ruined by too many adds...\n",
              "504               now perfect, with animated gif support\n",
              "                             ...                        \n",
              "76     i hated it i am able to log in successfully bu...\n",
              "870    kinda like a 2d kingdom havoc fun! if kingdom ...\n",
              "80     bugs with contact syncing very frustrated. aft...\n",
              "414    we have wifi with full internet connection. an...\n",
              "785    keeps crashing i really do love the browser ov...\n",
              "Name: review, Length: 668, dtype: object"
            ]
          },
          "metadata": {},
          "execution_count": 76
        }
      ]
    },
    {
      "cell_type": "code",
      "metadata": {
        "colab": {
          "base_uri": "https://localhost:8080/"
        },
        "id": "kPZcc-FDP8ig",
        "outputId": "ffe798c4-3fed-4456-85e6-d31ee4f378e4"
      },
      "source": [
        "y_train.value_counts()"
      ],
      "execution_count": null,
      "outputs": [
        {
          "output_type": "execute_result",
          "data": {
            "text/plain": [
              "0    438\n",
              "1    230\n",
              "Name: polarity, dtype: int64"
            ]
          },
          "metadata": {},
          "execution_count": 77
        }
      ]
    },
    {
      "cell_type": "code",
      "metadata": {
        "colab": {
          "base_uri": "https://localhost:8080/"
        },
        "id": "W42O1DmdQA_n",
        "outputId": "eb98ce73-48a9-4470-ed73-03213376e26e"
      },
      "source": [
        "y_test.value_counts()"
      ],
      "execution_count": null,
      "outputs": [
        {
          "output_type": "execute_result",
          "data": {
            "text/plain": [
              "0    146\n",
              "1     77\n",
              "Name: polarity, dtype: int64"
            ]
          },
          "metadata": {},
          "execution_count": 78
        }
      ]
    },
    {
      "cell_type": "code",
      "metadata": {
        "id": "lYuc3C13QEjr"
      },
      "source": [
        "from sklearn.feature_extraction.text import CountVectorizer\n",
        "vec=CountVectorizer(stop_words='english')\n",
        "X=vec.fit_transform(X).toarray()\n",
        "X_test=vec.transform(X_test).toarray()"
      ],
      "execution_count": null,
      "outputs": []
    },
    {
      "cell_type": "code",
      "metadata": {
        "colab": {
          "base_uri": "https://localhost:8080/"
        },
        "id": "PMAxyeqsRcUg",
        "outputId": "fd0de879-9ab0-49bd-c1a6-6dcfd2c7d921"
      },
      "source": [
        "from sklearn.naive_bayes import MultinomialNB\n",
        "from sklearn.metrics import accuracy_score,classification_report,confusion_matrix\n",
        "model=MultinomialNB()\n",
        "model.fit(X,y)"
      ],
      "execution_count": null,
      "outputs": [
        {
          "output_type": "execute_result",
          "data": {
            "text/plain": [
              "MultinomialNB(alpha=1.0, class_prior=None, fit_prior=True)"
            ]
          },
          "metadata": {},
          "execution_count": 80
        }
      ]
    },
    {
      "cell_type": "code",
      "metadata": {
        "colab": {
          "base_uri": "https://localhost:8080/"
        },
        "id": "qCRMT1UBS2F_",
        "outputId": "00ebec6b-0c1b-406a-87a9-6472ce7e4b59"
      },
      "source": [
        "model.score(X_test,y_test)*100"
      ],
      "execution_count": null,
      "outputs": [
        {
          "output_type": "execute_result",
          "data": {
            "text/plain": [
              "95.96412556053812"
            ]
          },
          "metadata": {},
          "execution_count": 83
        }
      ]
    },
    {
      "cell_type": "code",
      "metadata": {
        "colab": {
          "base_uri": "https://localhost:8080/"
        },
        "id": "w3jEPfH7Tpfi",
        "outputId": "a193db06-6410-4eaf-f653-10f0ffd8688b"
      },
      "source": [
        "model.predict(vec.transform(['Love this app simply awesome!']))"
      ],
      "execution_count": null,
      "outputs": [
        {
          "output_type": "execute_result",
          "data": {
            "text/plain": [
              "array([1])"
            ]
          },
          "metadata": {},
          "execution_count": 84
        }
      ]
    }
  ]
}